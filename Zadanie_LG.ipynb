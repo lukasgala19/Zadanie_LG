{
  "nbformat": 4,
  "nbformat_minor": 0,
  "metadata": {
    "colab": {
      "provenance": [],
      "authorship_tag": "ABX9TyPUthy52n4CTP2kBkcPiROB",
      "include_colab_link": true
    },
    "kernelspec": {
      "name": "python3",
      "display_name": "Python 3"
    },
    "language_info": {
      "name": "python"
    }
  },
  "cells": [
    {
      "cell_type": "markdown",
      "metadata": {
        "id": "view-in-github",
        "colab_type": "text"
      },
      "source": [
        "<a href=\"https://colab.research.google.com/github/lukasgala19/Zadanie_LG/blob/main/Zadanie_LG.ipynb\" target=\"_parent\"><img src=\"https://colab.research.google.com/assets/colab-badge.svg\" alt=\"Open In Colab\"/></a>"
      ]
    },
    {
      "cell_type": "code",
      "source": [
        "import pandas as pd\n",
        "import matplotlib.pyplot as plt\n",
        "import seaborn as sns\n",
        "import locale"
      ],
      "metadata": {
        "id": "N3JPtqu8SpGm"
      },
      "execution_count": 30,
      "outputs": []
    },
    {
      "cell_type": "code",
      "source": [
        "Transactions = pd.read_excel('Data.xlsx',sheet_name=0)"
      ],
      "metadata": {
        "id": "t-JYRtWfS5gj"
      },
      "execution_count": 31,
      "outputs": []
    },
    {
      "cell_type": "code",
      "source": [
        "print(Transactions)"
      ],
      "metadata": {
        "colab": {
          "base_uri": "https://localhost:8080/"
        },
        "id": "dRsPaHdCVCD1",
        "outputId": "5bc40cc1-b953-42ce-fa38-453f2079f53d"
      },
      "execution_count": 32,
      "outputs": [
        {
          "output_type": "stream",
          "name": "stdout",
          "text": [
            "     Transaction ID       Date               Product name  Quantity\n",
            "0                 1 2022-02-01           Samsung QN55Q80T         1\n",
            "1                 1 2022-02-01        Apple iPhone 12 Pro         1\n",
            "2                 2 2022-02-02         Lenovo Tab P11 Pro         2\n",
            "3                 2 2022-02-02         Xiaomi Poco X3 Pro         1\n",
            "4                 3 2022-02-03  Bose QuietComfort Earbuds         2\n",
            "..              ...        ...                        ...       ...\n",
            "136              77 2022-05-27                LG 75NANO81         1\n",
            "137              77 2022-05-27     Samsung Galaxy Tab S7+         1\n",
            "138              78 2022-05-29  Bose QuietComfort Earbuds         2\n",
            "139              78 2022-05-29        Apple iPhone 12 Pro         1\n",
            "140              78 2022-05-29                LG OLED55CX         1\n",
            "\n",
            "[141 rows x 4 columns]\n"
          ]
        }
      ]
    },
    {
      "cell_type": "code",
      "source": [
        "Products = pd.read_excel('Data.xlsx',sheet_name=1)"
      ],
      "metadata": {
        "id": "HW38xIKEVKQi"
      },
      "execution_count": 33,
      "outputs": []
    },
    {
      "cell_type": "code",
      "source": [
        "print(Products)"
      ],
      "metadata": {
        "colab": {
          "base_uri": "https://localhost:8080/"
        },
        "id": "_94hnTIOVZRe",
        "outputId": "aed08321-f204-4928-9635-2239f4483d15"
      },
      "execution_count": 34,
      "outputs": [
        {
          "output_type": "stream",
          "name": "stdout",
          "text": [
            "                 Product name          Category  Price\n",
            "0                JBL Charge 4             Audio   2990\n",
            "1   Bose QuietComfort Earbuds             Audio   7490\n",
            "2             Sony WH-1000XM4             Audio  10490\n",
            "3                 LG OLED55CX          Televize  38990\n",
            "4            Samsung QN55Q80T          Televize  29990\n",
            "5                 LG 75NANO81          Televize  44990\n",
            "6         Apple iPhone 12 Pro  Mobilní telefony  27990\n",
            "7    Samsung Galaxy S21 Ultra  Mobilní telefony  25490\n",
            "8          Xiaomi Poco X3 Pro  Mobilní telefony   5690\n",
            "9              Apple iPad Air           Tablety  17990\n",
            "10     Samsung Galaxy Tab S7+           Tablety  24990\n",
            "11         Lenovo Tab P11 Pro           Tablety  11990\n"
          ]
        }
      ]
    },
    {
      "cell_type": "code",
      "source": [
        "spojene_df = pd.merge(Transactions,Products,on='Product name')"
      ],
      "metadata": {
        "id": "Jl22EY25VdaT"
      },
      "execution_count": 35,
      "outputs": []
    },
    {
      "cell_type": "code",
      "source": [
        "print(spojene_df.head)"
      ],
      "metadata": {
        "colab": {
          "base_uri": "https://localhost:8080/"
        },
        "id": "FT9VUN19V0iQ",
        "outputId": "107de3d9-f39a-4dfb-b07c-606583d995ea"
      },
      "execution_count": 36,
      "outputs": [
        {
          "output_type": "stream",
          "name": "stdout",
          "text": [
            "<bound method NDFrame.head of      Transaction ID       Date               Product name  Quantity  \\\n",
            "0                 1 2022-02-01           Samsung QN55Q80T         1   \n",
            "1                 1 2022-02-01        Apple iPhone 12 Pro         1   \n",
            "2                 2 2022-02-02         Lenovo Tab P11 Pro         2   \n",
            "3                 2 2022-02-02         Xiaomi Poco X3 Pro         1   \n",
            "4                 3 2022-02-03  Bose QuietComfort Earbuds         2   \n",
            "..              ...        ...                        ...       ...   \n",
            "136              77 2022-05-27                LG 75NANO81         1   \n",
            "137              77 2022-05-27     Samsung Galaxy Tab S7+         1   \n",
            "138              78 2022-05-29  Bose QuietComfort Earbuds         2   \n",
            "139              78 2022-05-29        Apple iPhone 12 Pro         1   \n",
            "140              78 2022-05-29                LG OLED55CX         1   \n",
            "\n",
            "             Category  Price  \n",
            "0            Televize  29990  \n",
            "1    Mobilní telefony  27990  \n",
            "2             Tablety  11990  \n",
            "3    Mobilní telefony   5690  \n",
            "4               Audio   7490  \n",
            "..                ...    ...  \n",
            "136          Televize  44990  \n",
            "137           Tablety  24990  \n",
            "138             Audio   7490  \n",
            "139  Mobilní telefony  27990  \n",
            "140          Televize  38990  \n",
            "\n",
            "[141 rows x 6 columns]>\n"
          ]
        }
      ]
    },
    {
      "cell_type": "code",
      "source": [
        "print(spojene_df.iloc[105])"
      ],
      "metadata": {
        "colab": {
          "base_uri": "https://localhost:8080/"
        },
        "id": "x24XhrsvWfLr",
        "outputId": "afdcbc2f-b075-4000-a5e7-ae58cf3ef064"
      },
      "execution_count": 37,
      "outputs": [
        {
          "output_type": "stream",
          "name": "stdout",
          "text": [
            "Transaction ID                     64\n",
            "Date              2022-04-23 00:00:00\n",
            "Product name       Xiaomi Poco X3 Pro\n",
            "Quantity                            1\n",
            "Category             Mobilní telefony\n",
            "Price                            5690\n",
            "Name: 105, dtype: object\n"
          ]
        }
      ]
    },
    {
      "cell_type": "code",
      "source": [
        "print(spojene_df[spojene_df[\"Category\"].isna()])"
      ],
      "metadata": {
        "colab": {
          "base_uri": "https://localhost:8080/"
        },
        "id": "0AVCIJonXjCY",
        "outputId": "cf385954-3de2-4add-99ea-e4f278e5b7b5"
      },
      "execution_count": 38,
      "outputs": [
        {
          "output_type": "stream",
          "name": "stdout",
          "text": [
            "Empty DataFrame\n",
            "Columns: [Transaction ID, Date, Product name, Quantity, Category, Price]\n",
            "Index: []\n"
          ]
        }
      ]
    },
    {
      "cell_type": "code",
      "source": [
        "spojene_df[\"Product Revenue\"] = spojene_df[\"Price\"] * spojene_df[\"Quantity\"]"
      ],
      "metadata": {
        "id": "0lVkltwgZUAq"
      },
      "execution_count": 39,
      "outputs": []
    },
    {
      "cell_type": "code",
      "source": [
        "spojene_df[\"Month\"] = spojene_df[\"Date\"].dt.strftime('%B')"
      ],
      "metadata": {
        "id": "-InFOqTIf1oK"
      },
      "execution_count": 40,
      "outputs": []
    },
    {
      "cell_type": "code",
      "source": [
        "print(spojene_df.head)"
      ],
      "metadata": {
        "colab": {
          "base_uri": "https://localhost:8080/"
        },
        "id": "WUOD-v7bf4J3",
        "outputId": "b77b6f94-e8c1-4411-a6c1-d626898942fb"
      },
      "execution_count": 41,
      "outputs": [
        {
          "output_type": "stream",
          "name": "stdout",
          "text": [
            "<bound method NDFrame.head of      Transaction ID       Date               Product name  Quantity  \\\n",
            "0                 1 2022-02-01           Samsung QN55Q80T         1   \n",
            "1                 1 2022-02-01        Apple iPhone 12 Pro         1   \n",
            "2                 2 2022-02-02         Lenovo Tab P11 Pro         2   \n",
            "3                 2 2022-02-02         Xiaomi Poco X3 Pro         1   \n",
            "4                 3 2022-02-03  Bose QuietComfort Earbuds         2   \n",
            "..              ...        ...                        ...       ...   \n",
            "136              77 2022-05-27                LG 75NANO81         1   \n",
            "137              77 2022-05-27     Samsung Galaxy Tab S7+         1   \n",
            "138              78 2022-05-29  Bose QuietComfort Earbuds         2   \n",
            "139              78 2022-05-29        Apple iPhone 12 Pro         1   \n",
            "140              78 2022-05-29                LG OLED55CX         1   \n",
            "\n",
            "             Category  Price  Product Revenue     Month  \n",
            "0            Televize  29990            29990  February  \n",
            "1    Mobilní telefony  27990            27990  February  \n",
            "2             Tablety  11990            23980  February  \n",
            "3    Mobilní telefony   5690             5690  February  \n",
            "4               Audio   7490            14980  February  \n",
            "..                ...    ...              ...       ...  \n",
            "136          Televize  44990            44990       May  \n",
            "137           Tablety  24990            24990       May  \n",
            "138             Audio   7490            14980       May  \n",
            "139  Mobilní telefony  27990            27990       May  \n",
            "140          Televize  38990            38990       May  \n",
            "\n",
            "[141 rows x 8 columns]>\n"
          ]
        }
      ]
    },
    {
      "cell_type": "code",
      "source": [
        "total_product_revenue_by_category = spojene_df.groupby(\"Category\")[\"Product Revenue\"].sum().reset_index()"
      ],
      "metadata": {
        "id": "71k7TiHFiZBL"
      },
      "execution_count": 42,
      "outputs": []
    },
    {
      "cell_type": "code",
      "source": [
        "print(total_product_revenue_by_category)"
      ],
      "metadata": {
        "colab": {
          "base_uri": "https://localhost:8080/"
        },
        "id": "4ifM3ra1ieGs",
        "outputId": "7708eb7a-209c-460c-a240-04169da3adff"
      },
      "execution_count": 43,
      "outputs": [
        {
          "output_type": "stream",
          "name": "stdout",
          "text": [
            "           Category  Product Revenue\n",
            "0             Audio           416370\n",
            "1  Mobilní telefony           614460\n",
            "2           Tablety           623660\n",
            "3          Televize          1205680\n"
          ]
        }
      ]
    },
    {
      "cell_type": "code",
      "source": [
        "plt.figure(figsize=(12, 7))\n",
        "sns.barplot(data=total_product_revenue_by_category, x=\"Category\", y=\"Product Revenue\",color=\"green\")\n",
        "plt.title(\"Obrat podľa kategórie a mesiaca\", fontsize=14)\n",
        "plt.xlabel(\"Kategória\")\n",
        "plt.ylabel(\"Obrat (€)\")\n",
        "plt.xticks(rotation=45)\n",
        "# 👉 Zmeniť z vedeckého zápisu (1e6) na normálne čísla\n",
        "plt.ticklabel_format(style='plain', axis='y')\n",
        "plt.tight_layout()\n",
        "plt.show()"
      ],
      "metadata": {
        "colab": {
          "base_uri": "https://localhost:8080/",
          "height": 381
        },
        "id": "F4hymKDzoso5",
        "outputId": "1edb8287-2137-41be-c302-851e669b0b07"
      },
      "execution_count": 44,
      "outputs": [
        {
          "output_type": "display_data",
          "data": {
            "text/plain": [
              "<Figure size 1200x700 with 1 Axes>"
            ],
            "image/png": "[encoded data removed]"
          },
          "metadata": {}
        }
      ]
    },
    {
      "cell_type": "code",
      "source": [
        "total_produt_revenue_by_category_month = spojene_df.groupby([\"Category\", \"Month\"])[\"Product Revenue\"].sum().reset_index()"
      ],
      "metadata": {
        "id": "S_h2G15OgzC4"
      },
      "execution_count": 45,
      "outputs": []
    },
    {
      "cell_type": "code",
      "source": [
        "print(total_produt_revenue_by_category_month)"
      ],
      "metadata": {
        "colab": {
          "base_uri": "https://localhost:8080/"
        },
        "id": "bbTVQf3xhCOQ",
        "outputId": "c8327e3c-b170-4b6b-de26-78e256aed27a"
      },
      "execution_count": 46,
      "outputs": [
        {
          "output_type": "stream",
          "name": "stdout",
          "text": [
            "            Category     Month  Product Revenue\n",
            "0              Audio     April           107840\n",
            "1              Audio  February           130310\n",
            "2              Audio     March           107820\n",
            "3              Audio       May            70400\n",
            "4   Mobilní telefony     April           177510\n",
            "5   Mobilní telefony  February           208690\n",
            "6   Mobilní telefony     March           157710\n",
            "7   Mobilní telefony       May            70550\n",
            "8            Tablety     April           171910\n",
            "9            Tablety  February           188890\n",
            "10           Tablety     March           164910\n",
            "11           Tablety       May            97950\n",
            "12          Televize     April           266930\n",
            "13          Televize  February           290920\n",
            "14          Televize     March           380900\n",
            "15          Televize       May           266930\n"
          ]
        }
      ]
    },
    {
      "cell_type": "code",
      "source": [
        "plt.figure(figsize=(12, 7))\n",
        "sns.barplot(data=total_produt_revenue_by_category_month, x=\"Category\", y=\"Product Revenue\", hue=\"Month\", palette=\"pastel\")\n",
        "\n",
        "plt.title(\"Obrat podľa kategórie a mesiaca\", fontsize=14)\n",
        "plt.xlabel(\"Kategória\")\n",
        "plt.ylabel(\"Obrat (€)\")\n",
        "plt.xticks(rotation=45)\n",
        "plt.legend(title=\"Mesiac\")\n",
        "plt.tight_layout()\n",
        "plt.show()"
      ],
      "metadata": {
        "colab": {
          "base_uri": "https://localhost:8080/",
          "height": 381
        },
        "id": "OnI0DPrCoIPd",
        "outputId": "c2eecb8a-5cce-474f-f904-4bf99e87f974"
      },
      "execution_count": 47,
      "outputs": [
        {
          "output_type": "display_data",
          "data": {
            "text/plain": [
              "<Figure size 1200x700 with 1 Axes>"
            ],
            "image/png": "[encoded data removed]"
          },
          "metadata": {}
        }
      ]
    },
    {
      "cell_type": "markdown",
      "source": [
        "###Uloha 2###"
      ],
      "metadata": {
        "id": "nd1gu95iqA11"
      }
    },
    {
      "cell_type": "code",
      "source": [
        "spojene_df[\"Day of week\"] = spojene_df[\"Date\"].dt.day_name()"
      ],
      "metadata": {
        "id": "876ZuI6FqHYW"
      },
      "execution_count": 48,
      "outputs": []
    },
    {
      "cell_type": "code",
      "source": [
        "print(spojene_df.head)"
      ],
      "metadata": {
        "colab": {
          "base_uri": "https://localhost:8080/"
        },
        "id": "8lk-ILE48R2t",
        "outputId": "9a6550d3-cf72-4c05-f24b-e98b1597f044"
      },
      "execution_count": 49,
      "outputs": [
        {
          "output_type": "stream",
          "name": "stdout",
          "text": [
            "<bound method NDFrame.head of      Transaction ID       Date               Product name  Quantity  \\\n",
            "0                 1 2022-02-01           Samsung QN55Q80T         1   \n",
            "1                 1 2022-02-01        Apple iPhone 12 Pro         1   \n",
            "2                 2 2022-02-02         Lenovo Tab P11 Pro         2   \n",
            "3                 2 2022-02-02         Xiaomi Poco X3 Pro         1   \n",
            "4                 3 2022-02-03  Bose QuietComfort Earbuds         2   \n",
            "..              ...        ...                        ...       ...   \n",
            "136              77 2022-05-27                LG 75NANO81         1   \n",
            "137              77 2022-05-27     Samsung Galaxy Tab S7+         1   \n",
            "138              78 2022-05-29  Bose QuietComfort Earbuds         2   \n",
            "139              78 2022-05-29        Apple iPhone 12 Pro         1   \n",
            "140              78 2022-05-29                LG OLED55CX         1   \n",
            "\n",
            "             Category  Price  Product Revenue     Month Day of week  \n",
            "0            Televize  29990            29990  February     Tuesday  \n",
            "1    Mobilní telefony  27990            27990  February     Tuesday  \n",
            "2             Tablety  11990            23980  February   Wednesday  \n",
            "3    Mobilní telefony   5690             5690  February   Wednesday  \n",
            "4               Audio   7490            14980  February    Thursday  \n",
            "..                ...    ...              ...       ...         ...  \n",
            "136          Televize  44990            44990       May      Friday  \n",
            "137           Tablety  24990            24990       May      Friday  \n",
            "138             Audio   7490            14980       May      Sunday  \n",
            "139  Mobilní telefony  27990            27990       May      Sunday  \n",
            "140          Televize  38990            38990       May      Sunday  \n",
            "\n",
            "[141 rows x 9 columns]>\n"
          ]
        }
      ]
    },
    {
      "cell_type": "code",
      "source": [
        "orders_per_day = spojene_df.groupby(\"Day of week\").size().sort_values(ascending=False)\n",
        "print(orders_per_day)\n",
        "\n",
        "# Pre pekné zoradenie podľa týždňa\n",
        "#days_order = ['Monday', 'Tuesday', 'Wednesday', 'Thursday', 'Friday', 'Saturday', 'Sunday']\n",
        "#orders_per_day = orders_per_day.reindex(days_order)#\n",
        "\n",
        "\n",
        "# Deň s najviac objednávkami:\n",
        "print(\"Nejsilnější den v týdnu na počet objednávek je:\", orders_per_day.idxmax())"
      ],
      "metadata": {
        "colab": {
          "base_uri": "https://localhost:8080/"
        },
        "id": "Sq3Nu8EN9klu",
        "outputId": "376fe0ba-5713-4eae-9a80-2b31e8c3ef24"
      },
      "execution_count": 50,
      "outputs": [
        {
          "output_type": "stream",
          "name": "stdout",
          "text": [
            "Day of week\n",
            "Saturday     29\n",
            "Monday       25\n",
            "Wednesday    22\n",
            "Friday       20\n",
            "Tuesday      16\n",
            "Thursday     15\n",
            "Sunday       14\n",
            "dtype: int64\n",
            "Nejsilnější den v týdnu na počet objednávek je: Saturday\n"
          ]
        }
      ]
    },
    {
      "cell_type": "markdown",
      "source": [
        "###Úloha 3###"
      ],
      "metadata": {
        "id": "UzTziZpiKcNz"
      }
    },
    {
      "cell_type": "code",
      "source": [
        "# 1. Vyfiltruj ID objednávok, kde sa vyskytuje Televize\n",
        "tv_orders = spojene_df[spojene_df[\"Category\"] == \"Televize\"][\"Transaction ID\"].unique()\n",
        "\n",
        "# 2. Vyfiltruj všetky produkty, ktoré boli súčasťou týchto objednávok\n",
        "products_in_same_orders = spojene_df[spojene_df[\"Transaction ID\"].isin(tv_orders)]\n",
        "\n",
        "# 3. Získaj zoznam kategórií (aj opakujúcich sa)\n",
        "category_counts = products_in_same_orders[\"Category\"].value_counts()\n",
        "\n",
        "# 4. Odstráň samotnú „Televize“, lebo nás zaujímajú ostatné kategórie\n",
        "category_counts = category_counts.drop(\"Televize\", errors=\"ignore\")\n",
        "\n",
        "# 5. Výpis\n",
        "print(category_counts)"
      ],
      "metadata": {
        "colab": {
          "base_uri": "https://localhost:8080/"
        },
        "id": "jx7OCa5kKpBj",
        "outputId": "35b23b53-435d-4859-8183-8d8d83d71fdd"
      },
      "execution_count": 57,
      "outputs": [
        {
          "output_type": "stream",
          "name": "stdout",
          "text": [
            "Category\n",
            "Audio               13\n",
            "Mobilní telefony    12\n",
            "Tablety              7\n",
            "Name: count, dtype: int64\n"
          ]
        }
      ]
    }
  ]
}