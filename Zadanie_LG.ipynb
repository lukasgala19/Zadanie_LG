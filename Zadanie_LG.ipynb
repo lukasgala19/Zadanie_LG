{
  "nbformat": 4,
  "nbformat_minor": 0,
  "metadata": {
    "colab": {
      "provenance": [],
      "authorship_tag": "ABX9TyPN/mD9R2qR7jJeg8h1ChUt",
      "include_colab_link": true
    },
    "kernelspec": {
      "name": "python3",
      "display_name": "Python 3"
    },
    "language_info": {
      "name": "python"
    }
  },
  "cells": [
    {
      "cell_type": "markdown",
      "metadata": {
        "id": "view-in-github",
        "colab_type": "text"
      },
      "source": [
        "<a href=\"https://colab.research.google.com/github/lukasgala19/Zadanie_LG/blob/main/Zadanie_LG.ipynb\" target=\"_parent\"><img src=\"https://colab.research.google.com/assets/colab-badge.svg\" alt=\"Open In Colab\"/></a>"
      ]
    },
    {
      "cell_type": "code",
      "source": [
        "import pandas as pd\n",
        "import matplotlib.pyplot as plt\n",
        "import seaborn as sns\n",
        "import locale"
      ],
      "metadata": {
        "id": "N3JPtqu8SpGm"
      },
      "execution_count": 119,
      "outputs": []
    },
    {
      "cell_type": "code",
      "source": [
        "Transactions = pd.read_excel('Data.xlsx',sheet_name=0)"
      ],
      "metadata": {
        "id": "t-JYRtWfS5gj"
      },
      "execution_count": 9,
      "outputs": []
    },
    {
      "cell_type": "code",
      "source": [
        "print(Transactions)"
      ],
      "metadata": {
        "colab": {
          "base_uri": "https://localhost:8080/"
        },
        "id": "dRsPaHdCVCD1",
        "outputId": "a8471500-b5b4-41a5-8108-e393bed7346f"
      },
      "execution_count": 10,
      "outputs": [
        {
          "output_type": "stream",
          "name": "stdout",
          "text": [
            "     Transaction ID       Date               Product name  Quantity\n",
            "0                 1 2022-02-01           Samsung QN55Q80T         1\n",
            "1                 1 2022-02-01        Apple iPhone 12 Pro         1\n",
            "2                 2 2022-02-02         Lenovo Tab P11 Pro         2\n",
            "3                 2 2022-02-02         Xiaomi Poco X3 Pro         1\n",
            "4                 3 2022-02-03  Bose QuietComfort Earbuds         2\n",
            "..              ...        ...                        ...       ...\n",
            "136              77 2022-05-27                LG 75NANO81         1\n",
            "137              77 2022-05-27     Samsung Galaxy Tab S7+         1\n",
            "138              78 2022-05-29  Bose QuietComfort Earbuds         2\n",
            "139              78 2022-05-29        Apple iPhone 12 Pro         1\n",
            "140              78 2022-05-29                LG OLED55CX         1\n",
            "\n",
            "[141 rows x 4 columns]\n"
          ]
        }
      ]
    },
    {
      "cell_type": "code",
      "source": [
        "Products = pd.read_excel('Data.xlsx',sheet_name=1)"
      ],
      "metadata": {
        "id": "HW38xIKEVKQi"
      },
      "execution_count": 11,
      "outputs": []
    },
    {
      "cell_type": "code",
      "source": [
        "print(Products)"
      ],
      "metadata": {
        "colab": {
          "base_uri": "https://localhost:8080/"
        },
        "id": "_94hnTIOVZRe",
        "outputId": "7377f4f6-eaa2-451e-ece3-58dba6b04fe8"
      },
      "execution_count": 12,
      "outputs": [
        {
          "output_type": "stream",
          "name": "stdout",
          "text": [
            "                 Product name          Category  Price\n",
            "0                JBL Charge 4             Audio   2990\n",
            "1   Bose QuietComfort Earbuds             Audio   7490\n",
            "2             Sony WH-1000XM4             Audio  10490\n",
            "3                 LG OLED55CX          Televize  38990\n",
            "4            Samsung QN55Q80T          Televize  29990\n",
            "5                 LG 75NANO81          Televize  44990\n",
            "6         Apple iPhone 12 Pro  Mobilní telefony  27990\n",
            "7    Samsung Galaxy S21 Ultra  Mobilní telefony  25490\n",
            "8          Xiaomi Poco X3 Pro  Mobilní telefony   5690\n",
            "9              Apple iPad Air           Tablety  17990\n",
            "10     Samsung Galaxy Tab S7+           Tablety  24990\n",
            "11         Lenovo Tab P11 Pro           Tablety  11990\n"
          ]
        }
      ]
    },
    {
      "cell_type": "code",
      "source": [
        "spojene_df = pd.merge(Transactions,Products,on='Product name')"
      ],
      "metadata": {
        "id": "Jl22EY25VdaT"
      },
      "execution_count": 20,
      "outputs": []
    },
    {
      "cell_type": "code",
      "source": [
        "print(spojene_df.head)"
      ],
      "metadata": {
        "colab": {
          "base_uri": "https://localhost:8080/"
        },
        "id": "FT9VUN19V0iQ",
        "outputId": "ecdea4c7-316d-43af-ca4a-f41535ed1422"
      },
      "execution_count": 31,
      "outputs": [
        {
          "output_type": "stream",
          "name": "stdout",
          "text": [
            "<bound method NDFrame.head of      Transaction ID       Date               Product name  Quantity  \\\n",
            "0                 1 2022-02-01           Samsung QN55Q80T         1   \n",
            "1                 1 2022-02-01        Apple iPhone 12 Pro         1   \n",
            "2                 2 2022-02-02         Lenovo Tab P11 Pro         2   \n",
            "3                 2 2022-02-02         Xiaomi Poco X3 Pro         1   \n",
            "4                 3 2022-02-03  Bose QuietComfort Earbuds         2   \n",
            "..              ...        ...                        ...       ...   \n",
            "136              77 2022-05-27                LG 75NANO81         1   \n",
            "137              77 2022-05-27     Samsung Galaxy Tab S7+         1   \n",
            "138              78 2022-05-29  Bose QuietComfort Earbuds         2   \n",
            "139              78 2022-05-29        Apple iPhone 12 Pro         1   \n",
            "140              78 2022-05-29                LG OLED55CX         1   \n",
            "\n",
            "             Category  Price  \n",
            "0            Televize  29990  \n",
            "1    Mobilní telefony  27990  \n",
            "2             Tablety  11990  \n",
            "3    Mobilní telefony   5690  \n",
            "4               Audio   7490  \n",
            "..                ...    ...  \n",
            "136          Televize  44990  \n",
            "137           Tablety  24990  \n",
            "138             Audio   7490  \n",
            "139  Mobilní telefony  27990  \n",
            "140          Televize  38990  \n",
            "\n",
            "[141 rows x 6 columns]>\n"
          ]
        }
      ]
    },
    {
      "cell_type": "code",
      "source": [
        "print(spojene_df.iloc[105])"
      ],
      "metadata": {
        "colab": {
          "base_uri": "https://localhost:8080/"
        },
        "id": "x24XhrsvWfLr",
        "outputId": "a7d3a76b-2cf3-422f-96c4-002bcc9bcdf3"
      },
      "execution_count": 32,
      "outputs": [
        {
          "output_type": "stream",
          "name": "stdout",
          "text": [
            "Transaction ID                     64\n",
            "Date              2022-04-23 00:00:00\n",
            "Product name       Xiaomi Poco X3 Pro\n",
            "Quantity                            1\n",
            "Category             Mobilní telefony\n",
            "Price                            5690\n",
            "Name: 105, dtype: object\n"
          ]
        }
      ]
    },
    {
      "cell_type": "code",
      "source": [
        "print(spojene_df[spojene_df[\"Category\"].isna()])"
      ],
      "metadata": {
        "colab": {
          "base_uri": "https://localhost:8080/"
        },
        "id": "0AVCIJonXjCY",
        "outputId": "9d86b547-39d9-4df4-8c3c-16f6732bba5b"
      },
      "execution_count": 33,
      "outputs": [
        {
          "output_type": "stream",
          "name": "stdout",
          "text": [
            "Empty DataFrame\n",
            "Columns: [Transaction ID, Date, Product name, Quantity, Category, Price]\n",
            "Index: []\n"
          ]
        }
      ]
    },
    {
      "cell_type": "code",
      "source": [
        "spojene_df[\"Product Revenue\"] = spojene_df[\"Price\"] * spojene_df[\"Quantity\"]"
      ],
      "metadata": {
        "id": "0lVkltwgZUAq"
      },
      "execution_count": 46,
      "outputs": []
    },
    {
      "cell_type": "code",
      "source": [
        "spojene_df[\"Month\"] = spojene_df[\"Date\"].dt.month"
      ],
      "metadata": {
        "id": "-InFOqTIf1oK"
      },
      "execution_count": 47,
      "outputs": []
    },
    {
      "cell_type": "code",
      "source": [
        "print(spojene_df.head)"
      ],
      "metadata": {
        "colab": {
          "base_uri": "https://localhost:8080/"
        },
        "id": "WUOD-v7bf4J3",
        "outputId": "4328fc06-51f7-4b6f-be4d-f6c5593658c2"
      },
      "execution_count": 48,
      "outputs": [
        {
          "output_type": "stream",
          "name": "stdout",
          "text": [
            "<bound method NDFrame.head of      Transaction ID       Date               Product name  Quantity  \\\n",
            "0                 1 2022-02-01           Samsung QN55Q80T         1   \n",
            "1                 1 2022-02-01        Apple iPhone 12 Pro         1   \n",
            "2                 2 2022-02-02         Lenovo Tab P11 Pro         2   \n",
            "3                 2 2022-02-02         Xiaomi Poco X3 Pro         1   \n",
            "4                 3 2022-02-03  Bose QuietComfort Earbuds         2   \n",
            "..              ...        ...                        ...       ...   \n",
            "136              77 2022-05-27                LG 75NANO81         1   \n",
            "137              77 2022-05-27     Samsung Galaxy Tab S7+         1   \n",
            "138              78 2022-05-29  Bose QuietComfort Earbuds         2   \n",
            "139              78 2022-05-29        Apple iPhone 12 Pro         1   \n",
            "140              78 2022-05-29                LG OLED55CX         1   \n",
            "\n",
            "             Category  Price  ProductRevenue  Month  Product Revenue  \n",
            "0            Televize  29990           29990      2            29990  \n",
            "1    Mobilní telefony  27990           27990      2            27990  \n",
            "2             Tablety  11990           23980      2            23980  \n",
            "3    Mobilní telefony   5690            5690      2             5690  \n",
            "4               Audio   7490           14980      2            14980  \n",
            "..                ...    ...             ...    ...              ...  \n",
            "136          Televize  44990           44990      5            44990  \n",
            "137           Tablety  24990           24990      5            24990  \n",
            "138             Audio   7490           14980      5            14980  \n",
            "139  Mobilní telefony  27990           27990      5            27990  \n",
            "140          Televize  38990           38990      5            38990  \n",
            "\n",
            "[141 rows x 9 columns]>\n"
          ]
        }
      ]
    },
    {
      "cell_type": "code",
      "source": [
        "total_product_revenue_by_category = spojene_df.groupby(\"Category\")[\"Product Revenue\"].sum().reset_index()"
      ],
      "metadata": {
        "id": "71k7TiHFiZBL"
      },
      "execution_count": 68,
      "outputs": []
    },
    {
      "cell_type": "code",
      "source": [
        "print(total_product_revenue_by_category)"
      ],
      "metadata": {
        "colab": {
          "base_uri": "https://localhost:8080/"
        },
        "id": "4ifM3ra1ieGs",
        "outputId": "e1292434-0e09-40f9-fc92-17df996c7488"
      },
      "execution_count": 97,
      "outputs": [
        {
          "output_type": "stream",
          "name": "stdout",
          "text": [
            "           Category  Product Revenue\n",
            "0             Audio           416370\n",
            "1  Mobilní telefony           614460\n",
            "2           Tablety           623660\n",
            "3          Televize          1205680\n"
          ]
        }
      ]
    },
    {
      "cell_type": "code",
      "source": [
        "plt.figure(figsize=(12, 7))\n",
        "sns.barplot(data=total_product_revenue_by_category, x=\"Category\", y=\"Product Revenue\",color=\"green\")\n",
        "plt.title(\"Obrat podľa kategórie a mesiaca\", fontsize=14)\n",
        "plt.xlabel(\"Kategória\")\n",
        "plt.ylabel(\"Obrat (€)\")\n",
        "plt.xticks(rotation=45)\n",
        "# 👉 Zmeniť z vedeckého zápisu (1e6) na normálne čísla\n",
        "plt.ticklabel_format(style='plain', axis='y')\n",
        "plt.tight_layout()\n",
        "plt.show()"
      ],
      "metadata": {
        "colab": {
          "base_uri": "https://localhost:8080/",
          "height": 614
        },
        "id": "F4hymKDzoso5",
        "outputId": "b0cf8b5d-79b0-4051-8740-f54e52aeddc2"
      },
      "execution_count": 103,
      "outputs": [
        {
          "output_type": "display_data",
          "data": {
            "text/plain": [
              "<Figure size 1200x700 with 1 Axes>"
            ],
            "image/png": "[encoded data removed]"
          },
          "metadata": {}
        }
      ]
    },
    {
      "cell_type": "code",
      "source": [
        "total_produt_revenue_by_category_month = spojene_df.groupby([\"Category\", \"Month\"])[\"Product Revenue\"].sum().reset_index()"
      ],
      "metadata": {
        "id": "S_h2G15OgzC4"
      },
      "execution_count": 71,
      "outputs": []
    },
    {
      "cell_type": "code",
      "source": [
        "print(total_produt_revenue_by_category_month)"
      ],
      "metadata": {
        "colab": {
          "base_uri": "https://localhost:8080/"
        },
        "id": "bbTVQf3xhCOQ",
        "outputId": "2d88ada4-dfc8-4435-92bf-3ee424529336"
      },
      "execution_count": 99,
      "outputs": [
        {
          "output_type": "stream",
          "name": "stdout",
          "text": [
            "            Category  Month  Product Revenue\n",
            "0              Audio      2           130310\n",
            "1              Audio      3           107820\n",
            "2              Audio      4           107840\n",
            "3              Audio      5            70400\n",
            "4   Mobilní telefony      2           208690\n",
            "5   Mobilní telefony      3           157710\n",
            "6   Mobilní telefony      4           177510\n",
            "7   Mobilní telefony      5            70550\n",
            "8            Tablety      2           188890\n",
            "9            Tablety      3           164910\n",
            "10           Tablety      4           171910\n",
            "11           Tablety      5            97950\n",
            "12          Televize      2           290920\n",
            "13          Televize      3           380900\n",
            "14          Televize      4           266930\n",
            "15          Televize      5           266930\n"
          ]
        }
      ]
    },
    {
      "cell_type": "code",
      "source": [
        "plt.figure(figsize=(12, 7))\n",
        "sns.barplot(data=total_produt_revenue_by_category_month, x=\"Category\", y=\"Product Revenue\", hue=\"Month\", palette=\"pastel\")\n",
        "\n",
        "plt.title(\"Obrat podľa kategórie a mesiaca\", fontsize=14)\n",
        "plt.xlabel(\"Kategória\")\n",
        "plt.ylabel(\"Obrat (€)\")\n",
        "plt.xticks(rotation=45)\n",
        "plt.legend(title=\"Mesiac\")\n",
        "plt.tight_layout()\n",
        "plt.show()"
      ],
      "metadata": {
        "colab": {
          "base_uri": "https://localhost:8080/",
          "height": 614
        },
        "id": "OnI0DPrCoIPd",
        "outputId": "b9290988-08b4-4015-c8e3-2e77ac387bde"
      },
      "execution_count": 101,
      "outputs": [
        {
          "output_type": "display_data",
          "data": {
            "text/plain": [
              "<Figure size 1200x700 with 1 Axes>"
            ],
            "image/png": "[encoded data removed]"
          },
          "metadata": {}
        }
      ]
    },
    {
      "cell_type": "markdown",
      "source": [
        "###Uloha 2###"
      ],
      "metadata": {
        "id": "nd1gu95iqA11"
      }
    },
    {
      "cell_type": "code",
      "source": [
        "spojene_df[\"Day of week\"] = spojene_df[\"Date\"].dt.day_name()"
      ],
      "metadata": {
        "id": "876ZuI6FqHYW"
      },
      "execution_count": 106,
      "outputs": []
    },
    {
      "cell_type": "code",
      "source": [
        "print(spojene_df.head)"
      ],
      "metadata": {
        "colab": {
          "base_uri": "https://localhost:8080/"
        },
        "id": "8lk-ILE48R2t",
        "outputId": "649773a9-5370-49f9-8cc3-ee3e85b14af9"
      },
      "execution_count": 107,
      "outputs": [
        {
          "output_type": "stream",
          "name": "stdout",
          "text": [
            "<bound method NDFrame.head of      Transaction ID       Date               Product name  Quantity  \\\n",
            "0                 1 2022-02-01           Samsung QN55Q80T         1   \n",
            "1                 1 2022-02-01        Apple iPhone 12 Pro         1   \n",
            "2                 2 2022-02-02         Lenovo Tab P11 Pro         2   \n",
            "3                 2 2022-02-02         Xiaomi Poco X3 Pro         1   \n",
            "4                 3 2022-02-03  Bose QuietComfort Earbuds         2   \n",
            "..              ...        ...                        ...       ...   \n",
            "136              77 2022-05-27                LG 75NANO81         1   \n",
            "137              77 2022-05-27     Samsung Galaxy Tab S7+         1   \n",
            "138              78 2022-05-29  Bose QuietComfort Earbuds         2   \n",
            "139              78 2022-05-29        Apple iPhone 12 Pro         1   \n",
            "140              78 2022-05-29                LG OLED55CX         1   \n",
            "\n",
            "             Category  Price  ProductRevenue  Month  Product Revenue  \\\n",
            "0            Televize  29990           29990      2            29990   \n",
            "1    Mobilní telefony  27990           27990      2            27990   \n",
            "2             Tablety  11990           23980      2            23980   \n",
            "3    Mobilní telefony   5690            5690      2             5690   \n",
            "4               Audio   7490           14980      2            14980   \n",
            "..                ...    ...             ...    ...              ...   \n",
            "136          Televize  44990           44990      5            44990   \n",
            "137           Tablety  24990           24990      5            24990   \n",
            "138             Audio   7490           14980      5            14980   \n",
            "139  Mobilní telefony  27990           27990      5            27990   \n",
            "140          Televize  38990           38990      5            38990   \n",
            "\n",
            "    Day of week  \n",
            "0       Tuesday  \n",
            "1       Tuesday  \n",
            "2     Wednesday  \n",
            "3     Wednesday  \n",
            "4      Thursday  \n",
            "..          ...  \n",
            "136      Friday  \n",
            "137      Friday  \n",
            "138      Sunday  \n",
            "139      Sunday  \n",
            "140      Sunday  \n",
            "\n",
            "[141 rows x 10 columns]>\n"
          ]
        }
      ]
    },
    {
      "cell_type": "code",
      "source": [
        "orders_per_day = spojene_df.groupby(\"Day of week\").size().sort_values(ascending=False)\n",
        "print(orders_per_day)\n",
        "\n",
        "# Pre pekné zoradenie podľa týždňa\n",
        "#days_order = ['Monday', 'Tuesday', 'Wednesday', 'Thursday', 'Friday', 'Saturday', 'Sunday']\n",
        "#orders_per_day = orders_per_day.reindex(days_order)#\n",
        "\n",
        "\n",
        "# Deň s najviac objednávkami:\n",
        "print(\"Nejsilnější den v týdnu na počet objednávek je:\", orders_per_day.idxmax())"
      ],
      "metadata": {
        "colab": {
          "base_uri": "https://localhost:8080/"
        },
        "id": "Sq3Nu8EN9klu",
        "outputId": "70b1b825-25d8-43bf-cbfb-adbf43ca1974"
      },
      "execution_count": 118,
      "outputs": [
        {
          "output_type": "stream",
          "name": "stdout",
          "text": [
            "Day of week\n",
            "Saturday     29\n",
            "Monday       25\n",
            "Wednesday    22\n",
            "Friday       20\n",
            "Tuesday      16\n",
            "Thursday     15\n",
            "Sunday       14\n",
            "dtype: int64\n",
            "Nejsilnější den v týdnu na počet objednávek je: Saturday\n"
          ]
        }
      ]
    }
  ]
}